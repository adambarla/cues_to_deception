{
 "cells": [
  {
   "cell_type": "code",
   "execution_count": null,
   "metadata": {},
   "outputs": [],
   "source": [
    "%load_ext autoreload\n",
    "%autoreload 2"
   ]
  },
  {
   "cell_type": "code",
   "execution_count": null,
   "metadata": {},
   "outputs": [],
   "source": [
    "import os\n",
    "import pandas as pd\n",
    "import numpy as np\n",
    "import matplotlib.pyplot as plt\n",
    "import seaborn as sns\n",
    "import matplotlib as mpl\n",
    "import statsmodels.api as sm\n",
    "\n",
    "from utils import (\n",
    "    process_qualtrics,\n",
    "    calculate_scores,\n",
    ")"
   ]
  },
  {
   "cell_type": "code",
   "execution_count": null,
   "metadata": {},
   "outputs": [],
   "source": [
    "pd.set_option('display.max_columns', None)\n"
   ]
  },
  {
   "cell_type": "code",
   "execution_count": null,
   "metadata": {},
   "outputs": [],
   "source": [
    "data_file = \"SHS-cues_April+9,+2025_09.56.tsv\" #todo change to your data file\n",
    "data_folder = \"data\"\n",
    "data_path = os.path.join(data_folder, data_file)"
   ]
  },
  {
   "cell_type": "markdown",
   "metadata": {},
   "source": [
    "Load the data"
   ]
  },
  {
   "cell_type": "code",
   "execution_count": null,
   "metadata": {},
   "outputs": [],
   "source": [
    "df_qualtrics = pd.read_csv(data_path, sep='\\t', encoding='utf-16')\n",
    "df_qualtrics.head()"
   ]
  },
  {
   "cell_type": "code",
   "execution_count": null,
   "metadata": {},
   "outputs": [],
   "source": [
    "df = process_qualtrics(df_qualtrics, min_duration=2*60) # min duration of 5 minutes\n",
    "print(f\"After filtering, we have {len(df)} participants.\")\n",
    "df.head(3)"
   ]
  },
  {
   "cell_type": "code",
   "execution_count": null,
   "metadata": {},
   "outputs": [],
   "source": [
    "df = calculate_scores(df)\n",
    "df.head(3)"
   ]
  },
  {
   "cell_type": "code",
   "execution_count": null,
   "metadata": {},
   "outputs": [],
   "source": [
    "good_cues = df[df.cue_group == \"GoodCues\"]\n",
    "bad_cues = df[df.cue_group == \"BadCues\"]\n",
    "\n",
    "print(f\"GOOD CUES\\n group1: mean={good_cues.group1_score.mean():.3f}, std={good_cues.group1_score.std():.3f}\\n group2: mean={good_cues.group2_score.mean():.3f}, std={good_cues.group2_score.std():.3f}\")\n",
    "print(f\"BAD CUES\\n group1: mean={bad_cues.group1_score.mean():.3f}, std={bad_cues.group1_score.std():.3f}\\n group2: mean={bad_cues.group2_score.mean():.3f}, std={bad_cues.group2_score.std():.3f}\")"
   ]
  },
  {
   "cell_type": "markdown",
   "metadata": {},
   "source": [
    "# regression analysis\n",
    "\n",
    "linear regression to see the effect of the cue_group on the group2_score"
   ]
  },
  {
   "cell_type": "code",
   "execution_count": null,
   "metadata": {},
   "outputs": [],
   "source": [
    "formula = \"group2_score ~ C(cue_group)\"\n",
    "results = sm.formula.ols(formula, data=df).fit()\n",
    "print(results.summary())"
   ]
  },
  {
   "cell_type": "markdown",
   "metadata": {},
   "source": [
    "Group 1 shouldn't be affected by the cue_group so we expect the coefficient to be 0 "
   ]
  },
  {
   "cell_type": "code",
   "execution_count": null,
   "metadata": {},
   "outputs": [],
   "source": [
    "formula = \"group1_score ~ C(cue_group)\"\n",
    "results = sm.formula.ols(formula, data=df).fit()\n",
    "print(results.summary())"
   ]
  },
  {
   "cell_type": "markdown",
   "metadata": {},
   "source": [
    "## change of scores\n",
    "\n",
    "We want to know how does the exposure to the cues affect the score. \n",
    "We can look at the difference between the scores before and after the exposure to the cues."
   ]
  },
  {
   "cell_type": "code",
   "execution_count": null,
   "metadata": {},
   "outputs": [],
   "source": [
    "formula = \"score_diff ~ C(cue_group)\"\n",
    "results = sm.formula.ols(formula, data=df).fit()\n",
    "print(results.summary())"
   ]
  }
 ],
 "metadata": {
  "kernelspec": {
   "display_name": "shs",
   "language": "python",
   "name": "python3"
  },
  "language_info": {
   "codemirror_mode": {
    "name": "ipython",
    "version": 3
   },
   "file_extension": ".py",
   "mimetype": "text/x-python",
   "name": "python",
   "nbconvert_exporter": "python",
   "pygments_lexer": "ipython3"
  }
 },
 "nbformat": 4,
 "nbformat_minor": 2
}
